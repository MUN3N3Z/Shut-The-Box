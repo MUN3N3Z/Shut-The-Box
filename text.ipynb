{
 "cells": [
  {
   "cell_type": "markdown",
   "metadata": {},
   "source": [
    "Two Players\n",
    "\n",
    "P1 starts with 1 2 3 4 5 6 7 8 9\n",
    "\n",
    "Roll two 6-sided dice, eliminate numbers that sum to total on dice\n",
    "(Switch to 1 die when total remaining is <= 6)\n",
    "\n",
    "Repeat until all numbers eliminated (instant P1 wins) or no moves possible\n",
    "\n",
    "P2 starts with 1 2 3 4 5 6 7 8 9\n",
    "\n",
    "Roll two 6-sided dice, eliminate numbers that sum to total on dice\n",
    "(Switch to 1 die when total remaining is <= 6)\n",
    "\n",
    "Repeat until sum of remaining numbers is < P1’s total, or no moves possible (tie if\n",
    "sums equal, otherwise P1 win)\n"
   ]
  },
  {
   "cell_type": "markdown",
   "metadata": {},
   "source": [
    "$v_2^*(S,t)$ = expected P2 wins starting turn with tiles $S$ and player 1 score $t$\n",
    "$$\\equiv\n",
    "\\begin{cases}\n",
    "    1.0 & \\sum_{s \\in S} s < t \\\\\n",
    "    \\sum_{r = 2}^{12} P(r) \\cdot v_2^*(S,r,t) & \\sum_{s \\in S} s \\geq max(7,t) \\\\\n",
    "    \\sum_{r = 2}^{6} \\frac{1}{6} \\cdot v_2^*(S,r,t) &  min(0,t) \\leq \\sum_{s \\in S} s < 6 \\\\\n",
    "\\end{cases}\n",
    "$$\n",
    "\n",
    "$v_2^*(S,r,t)$ = expected P2 wins after rolling $r$ with tiles $S$ and P1 score $t$\n",
    "$$\\equiv\n",
    "\\begin{cases}\n",
    "    0.5 & no S' \\subseteq S has \\sum_{s \\in S'} s = r and \\sum_{s \\in S} s = t \\\\\n",
    "    0.0 & no S' \\subseteq S has \\sum_{s \\in S'} s = r and \\sum_{s \\in S} s > t \\\\\n",
    "    max_{S' \\subseteq S, \\sum_{s \\in S'} s = r} v_2^*(S \\setminus S') & otherwise\n",
    "\\end{cases}\n",
    "$$\n",
    "\n",
    "$v_1^*(S)$ = expected P1 wins starting turn with tiles $S$\n",
    "$$\\equiv \n",
    "\\begin{cases}\n",
    "    1.0 & S = \\emptyset \\\\\n",
    "    \\sum_{r = 2}^{12} P(r) \\cdot v_1^*(S,r) & \\sum_{s \\in S} s > 6 \\\\\n",
    "    \\sum_{r = 2}^{6} \\frac{1}{6} \\cdot v_1^*(S,r) & 0 < \\sum_{s \\in S} s \\leq 6 \n",
    "\\end{cases}\n",
    "$$\n",
    "$v_1^*(S,r)$ = expected P1 wins starting turn with tiles $S$ and roll $r$\n",
    "$$\\equiv\n",
    "\\begin{cases}\n",
    "    1.0 - v_2^*({1,2,3,4,5,6,7,8,9}, \\sum_{s \\in S}) & no S' \\subseteq S has \\sum_{s \\in S'} s = r \\\\\n",
    "    max_{S' \\subseteq S, \\sum_{s \\in S'} s = r} v_1^*(S \\setminus S') & otherwise\n",
    "\\end{cases}"
   ]
  },
  {
   "cell_type": "markdown",
   "metadata": {},
   "source": []
  }
 ],
 "metadata": {
  "language_info": {
   "name": "python"
  }
 },
 "nbformat": 4,
 "nbformat_minor": 2
}
